{
  "nbformat": 4,
  "nbformat_minor": 0,
  "metadata": {
    "colab": {
      "provenance": [],
      "gpuType": "T4"
    },
    "kernelspec": {
      "name": "python3",
      "display_name": "Python 3"
    },
    "language_info": {
      "name": "python"
    },
    "accelerator": "GPU"
  },
  "cells": [
    {
      "cell_type": "code",
      "execution_count": null,
      "metadata": {
        "id": "BFCAxhYiOkx8"
      },
      "outputs": [],
      "source": [
        "import tensorflow as tf\n",
        "import pandas as pd\n",
        "import numpy as np\n",
        "from sklearn.preprocessing import StandardScaler\n",
        "from sklearn.impute import SimpleImputer\n",
        "from sklearn.datasets import load_iris\n",
        "from sklearn.model_selection import train_test_split,KFold\n",
        "from sklearn.ensemble import RandomForestClassifier\n",
        "from sklearn.linear_model import LogisticRegression\n",
        "from sklearn.metrics import classification_report, confusion_matrix,ConfusionMatrixDisplay\n",
        "from tensorflow.keras.layers import Dense,Flatten,Conv2D,MaxPooling2D,Dropout,RandomFlip,RandomRotation,RandomZoom,RandomTranslation\n",
        "from tensorflow.keras.models import Sequential\n",
        "from tensorflow.keras.utils import to_categorical,image_dataset_from_directory\n",
        "from tensorflow.keras.datasets import cifar10\n",
        "from tensorflow.keras import Input\n",
        "from tensorflow.keras.callbacks import EarlyStopping\n",
        "import matplotlib.pyplot as plt\n",
        "import seaborn as sns\n",
        "import random\n"
      ]
    },
    {
      "cell_type": "code",
      "source": [
        "tf.__version__"
      ],
      "metadata": {
        "id": "R2Ky74tzsRJj",
        "outputId": "999dfc3e-f600-483d-bf63-73545d1c8f8f",
        "colab": {
          "base_uri": "https://localhost:8080/",
          "height": 35
        }
      },
      "execution_count": null,
      "outputs": [
        {
          "output_type": "execute_result",
          "data": {
            "text/plain": [
              "'2.18.0'"
            ],
            "application/vnd.google.colaboratory.intrinsic+json": {
              "type": "string"
            }
          },
          "metadata": {},
          "execution_count": 2
        }
      ]
    },
    {
      "cell_type": "code",
      "source": [
        "# Label\tDescription\n",
        "# 0\tairplane\n",
        "# 1\tautomobile\n",
        "# 2\tbird\n",
        "# 3\tcat\n",
        "# 4\tdeer\n",
        "# 5\tdog\n",
        "# 6\tfrog\n",
        "# 7\thorse\n",
        "# 8\tship\n",
        "# 9\ttruck\n",
        "lst_dict_labels = {\"0\":\"airplane\",\"1\":\"automobile\",\"2\":\"bird\",\"3\":\"cat\",\"4\":\"deer\",\"5\":\"dog\",\"6\":\"frog\",\"7\":\"horse\",\"8\":\"ship\",\n",
        "                   \"9\":\"truck\"}"
      ],
      "metadata": {
        "id": "OI64VbxmWTzW"
      },
      "execution_count": null,
      "outputs": []
    },
    {
      "cell_type": "code",
      "source": [
        "(x_train, y_train), (x_test, y_test) = cifar10.load_data()\n",
        "X_train_partial, X_validation, y_train_partial, y_test_validation = train_test_split(\n",
        "    x_train, y_train, test_size=0.33, random_state=42)\n"
      ],
      "metadata": {
        "id": "dkxxkDsvQSl1"
      },
      "execution_count": null,
      "outputs": []
    },
    {
      "cell_type": "code",
      "source": [
        "X_train_partial.shape\n",
        "X_validation.shape"
      ],
      "metadata": {
        "colab": {
          "base_uri": "https://localhost:8080/"
        },
        "id": "Lkfq5XNxVFQ9",
        "outputId": "bacdfd17-aeae-4f5c-d6b4-c7a460d1da25"
      },
      "execution_count": null,
      "outputs": [
        {
          "output_type": "execute_result",
          "data": {
            "text/plain": [
              "(16500, 32, 32, 3)"
            ]
          },
          "metadata": {},
          "execution_count": 6
        }
      ]
    },
    {
      "cell_type": "code",
      "source": [
        "early_stopping  = EarlyStopping(monitor='val_loss', patience=3, restore_best_weights=True)"
      ],
      "metadata": {
        "id": "u3uBz4R4Y_V1"
      },
      "execution_count": null,
      "outputs": []
    },
    {
      "cell_type": "code",
      "source": [
        "x_train = x_train/255.0\n",
        "x_test = x_test/255.0\n",
        "X_train_partial = X_train_partial/255.0\n",
        "X_validation = X_validation/255.0"
      ],
      "metadata": {
        "id": "R6z4EAZBS91c"
      },
      "execution_count": null,
      "outputs": []
    },
    {
      "cell_type": "code",
      "source": [
        "x_train.shape\n",
        "index_img = random.randint(0,len(x_train))\n",
        "test_img = x_train[index_img]\n",
        "\n",
        "fig,ax = plt.subplots(figsize=(1,1))\n",
        "ax.imshow(test_img)\n",
        "plt.show()\n"
      ],
      "metadata": {
        "colab": {
          "base_uri": "https://localhost:8080/",
          "height": 142
        },
        "id": "Ku4qpThjSquy",
        "outputId": "1d8698b2-54d1-4534-ee8e-2577a3b490f1"
      },
      "execution_count": null,
      "outputs": [
        {
          "output_type": "display_data",
          "data": {
            "text/plain": [
              "<Figure size 100x100 with 1 Axes>"
            ],
            "image/png": "[encoded data removed]"
          },
          "metadata": {}
        }
      ]
    },
    {
      "cell_type": "code",
      "source": [
        "data_augmentation = Sequential([\n",
        "    RandomFlip(\"horizontal\"),\n",
        "    RandomRotation(0.1),\n",
        "    RandomZoom(0.1),\n",
        "    RandomTranslation(0.1, 0.1)\n",
        "])\n",
        "\n",
        "model = Sequential([\n",
        "    Input(shape=(32,32,3)),\n",
        "    Conv2D(64,(3,3),activation='relu'),\n",
        "    MaxPooling2D((2,2)),\n",
        "    Conv2D(128,(3,3),activation='relu'),\n",
        "    MaxPooling2D((2,2)),\n",
        "    Conv2D(256,(3,3),activation='relu'),\n",
        "    MaxPooling2D((2,2)),\n",
        "    Flatten(),\n",
        "    Dropout(0.5),\n",
        "    Dense(512,activation='relu'),\n",
        "    Dense(10,activation='softmax')\n",
        "])\n",
        "model.summary()\n",
        "model.compile(optimizer='adam',loss='sparse_categorical_crossentropy',metrics=['accuracy'])\n"
      ],
      "metadata": {
        "colab": {
          "base_uri": "https://localhost:8080/",
          "height": 449
        },
        "id": "xt3m1h79SxM9",
        "outputId": "f225c94b-d358-473f-c12b-ec3309f76b88"
      },
      "execution_count": null,
      "outputs": [
        {
          "output_type": "display_data",
          "data": {
            "text/plain": [
              "\u001b[1mModel: \"sequential_7\"\u001b[0m\n"
            ],
            "text/html": [
              "<pre style=\"white-space:pre;overflow-x:auto;line-height:normal;font-family:Menlo,'DejaVu Sans Mono',consolas,'Courier New',monospace\"><span style=\"font-weight: bold\">Model: \"sequential_7\"</span>\n",
              "</pre>\n"
            ]
          },
          "metadata": {}
        },
        {
          "output_type": "display_data",
          "data": {
            "text/plain": [
              "┏━━━━━━━━━━━━━━━━━━━━━━━━━━━━━━━━━┳━━━━━━━━━━━━━━━━━━━━━━━━┳━━━━━━━━━━━━━━━┓\n",
              "┃\u001b[1m \u001b[0m\u001b[1mLayer (type)                   \u001b[0m\u001b[1m \u001b[0m┃\u001b[1m \u001b[0m\u001b[1mOutput Shape          \u001b[0m\u001b[1m \u001b[0m┃\u001b[1m \u001b[0m\u001b[1m      Param #\u001b[0m\u001b[1m \u001b[0m┃\n",
              "┡━━━━━━━━━━━━━━━━━━━━━━━━━━━━━━━━━╇━━━━━━━━━━━━━━━━━━━━━━━━╇━━━━━━━━━━━━━━━┩\n",
              "│ conv2d_16 (\u001b[38;5;33mConv2D\u001b[0m)              │ (\u001b[38;5;45mNone\u001b[0m, \u001b[38;5;34m30\u001b[0m, \u001b[38;5;34m30\u001b[0m, \u001b[38;5;34m64\u001b[0m)     │         \u001b[38;5;34m1,792\u001b[0m │\n",
              "├─────────────────────────────────┼────────────────────────┼───────────────┤\n",
              "│ max_pooling2d_16 (\u001b[38;5;33mMaxPooling2D\u001b[0m) │ (\u001b[38;5;45mNone\u001b[0m, \u001b[38;5;34m15\u001b[0m, \u001b[38;5;34m15\u001b[0m, \u001b[38;5;34m64\u001b[0m)     │             \u001b[38;5;34m0\u001b[0m │\n",
              "├─────────────────────────────────┼────────────────────────┼───────────────┤\n",
              "│ conv2d_17 (\u001b[38;5;33mConv2D\u001b[0m)              │ (\u001b[38;5;45mNone\u001b[0m, \u001b[38;5;34m13\u001b[0m, \u001b[38;5;34m13\u001b[0m, \u001b[38;5;34m128\u001b[0m)    │        \u001b[38;5;34m73,856\u001b[0m │\n",
              "├─────────────────────────────────┼────────────────────────┼───────────────┤\n",
              "│ max_pooling2d_17 (\u001b[38;5;33mMaxPooling2D\u001b[0m) │ (\u001b[38;5;45mNone\u001b[0m, \u001b[38;5;34m6\u001b[0m, \u001b[38;5;34m6\u001b[0m, \u001b[38;5;34m128\u001b[0m)      │             \u001b[38;5;34m0\u001b[0m │\n",
              "├─────────────────────────────────┼────────────────────────┼───────────────┤\n",
              "│ conv2d_18 (\u001b[38;5;33mConv2D\u001b[0m)              │ (\u001b[38;5;45mNone\u001b[0m, \u001b[38;5;34m4\u001b[0m, \u001b[38;5;34m4\u001b[0m, \u001b[38;5;34m256\u001b[0m)      │       \u001b[38;5;34m295,168\u001b[0m │\n",
              "├─────────────────────────────────┼────────────────────────┼───────────────┤\n",
              "│ max_pooling2d_18 (\u001b[38;5;33mMaxPooling2D\u001b[0m) │ (\u001b[38;5;45mNone\u001b[0m, \u001b[38;5;34m2\u001b[0m, \u001b[38;5;34m2\u001b[0m, \u001b[38;5;34m256\u001b[0m)      │             \u001b[38;5;34m0\u001b[0m │\n",
              "├─────────────────────────────────┼────────────────────────┼───────────────┤\n",
              "│ flatten_5 (\u001b[38;5;33mFlatten\u001b[0m)             │ (\u001b[38;5;45mNone\u001b[0m, \u001b[38;5;34m1024\u001b[0m)           │             \u001b[38;5;34m0\u001b[0m │\n",
              "├─────────────────────────────────┼────────────────────────┼───────────────┤\n",
              "│ dropout_1 (\u001b[38;5;33mDropout\u001b[0m)             │ (\u001b[38;5;45mNone\u001b[0m, \u001b[38;5;34m1024\u001b[0m)           │             \u001b[38;5;34m0\u001b[0m │\n",
              "├─────────────────────────────────┼────────────────────────┼───────────────┤\n",
              "│ dense_10 (\u001b[38;5;33mDense\u001b[0m)                │ (\u001b[38;5;45mNone\u001b[0m, \u001b[38;5;34m512\u001b[0m)            │       \u001b[38;5;34m524,800\u001b[0m │\n",
              "├─────────────────────────────────┼────────────────────────┼───────────────┤\n",
              "│ dense_11 (\u001b[38;5;33mDense\u001b[0m)                │ (\u001b[38;5;45mNone\u001b[0m, \u001b[38;5;34m10\u001b[0m)             │         \u001b[38;5;34m5,130\u001b[0m │\n",
              "└─────────────────────────────────┴────────────────────────┴───────────────┘\n"
            ],
            "text/html": [
              "<pre style=\"white-space:pre;overflow-x:auto;line-height:normal;font-family:Menlo,'DejaVu Sans Mono',consolas,'Courier New',monospace\">┏━━━━━━━━━━━━━━━━━━━━━━━━━━━━━━━━━┳━━━━━━━━━━━━━━━━━━━━━━━━┳━━━━━━━━━━━━━━━┓\n",
              "┃<span style=\"font-weight: bold\"> Layer (type)                    </span>┃<span style=\"font-weight: bold\"> Output Shape           </span>┃<span style=\"font-weight: bold\">       Param # </span>┃\n",
              "┡━━━━━━━━━━━━━━━━━━━━━━━━━━━━━━━━━╇━━━━━━━━━━━━━━━━━━━━━━━━╇━━━━━━━━━━━━━━━┩\n",
              "│ conv2d_16 (<span style=\"color: #0087ff; text-decoration-color: #0087ff\">Conv2D</span>)              │ (<span style=\"color: #00d7ff; text-decoration-color: #00d7ff\">None</span>, <span style=\"color: #00af00; text-decoration-color: #00af00\">30</span>, <span style=\"color: #00af00; text-decoration-color: #00af00\">30</span>, <span style=\"color: #00af00; text-decoration-color: #00af00\">64</span>)     │         <span style=\"color: #00af00; text-decoration-color: #00af00\">1,792</span> │\n",
              "├─────────────────────────────────┼────────────────────────┼───────────────┤\n",
              "│ max_pooling2d_16 (<span style=\"color: #0087ff; text-decoration-color: #0087ff\">MaxPooling2D</span>) │ (<span style=\"color: #00d7ff; text-decoration-color: #00d7ff\">None</span>, <span style=\"color: #00af00; text-decoration-color: #00af00\">15</span>, <span style=\"color: #00af00; text-decoration-color: #00af00\">15</span>, <span style=\"color: #00af00; text-decoration-color: #00af00\">64</span>)     │             <span style=\"color: #00af00; text-decoration-color: #00af00\">0</span> │\n",
              "├─────────────────────────────────┼────────────────────────┼───────────────┤\n",
              "│ conv2d_17 (<span style=\"color: #0087ff; text-decoration-color: #0087ff\">Conv2D</span>)              │ (<span style=\"color: #00d7ff; text-decoration-color: #00d7ff\">None</span>, <span style=\"color: #00af00; text-decoration-color: #00af00\">13</span>, <span style=\"color: #00af00; text-decoration-color: #00af00\">13</span>, <span style=\"color: #00af00; text-decoration-color: #00af00\">128</span>)    │        <span style=\"color: #00af00; text-decoration-color: #00af00\">73,856</span> │\n",
              "├─────────────────────────────────┼────────────────────────┼───────────────┤\n",
              "│ max_pooling2d_17 (<span style=\"color: #0087ff; text-decoration-color: #0087ff\">MaxPooling2D</span>) │ (<span style=\"color: #00d7ff; text-decoration-color: #00d7ff\">None</span>, <span style=\"color: #00af00; text-decoration-color: #00af00\">6</span>, <span style=\"color: #00af00; text-decoration-color: #00af00\">6</span>, <span style=\"color: #00af00; text-decoration-color: #00af00\">128</span>)      │             <span style=\"color: #00af00; text-decoration-color: #00af00\">0</span> │\n",
              "├─────────────────────────────────┼────────────────────────┼───────────────┤\n",
              "│ conv2d_18 (<span style=\"color: #0087ff; text-decoration-color: #0087ff\">Conv2D</span>)              │ (<span style=\"color: #00d7ff; text-decoration-color: #00d7ff\">None</span>, <span style=\"color: #00af00; text-decoration-color: #00af00\">4</span>, <span style=\"color: #00af00; text-decoration-color: #00af00\">4</span>, <span style=\"color: #00af00; text-decoration-color: #00af00\">256</span>)      │       <span style=\"color: #00af00; text-decoration-color: #00af00\">295,168</span> │\n",
              "├─────────────────────────────────┼────────────────────────┼───────────────┤\n",
              "│ max_pooling2d_18 (<span style=\"color: #0087ff; text-decoration-color: #0087ff\">MaxPooling2D</span>) │ (<span style=\"color: #00d7ff; text-decoration-color: #00d7ff\">None</span>, <span style=\"color: #00af00; text-decoration-color: #00af00\">2</span>, <span style=\"color: #00af00; text-decoration-color: #00af00\">2</span>, <span style=\"color: #00af00; text-decoration-color: #00af00\">256</span>)      │             <span style=\"color: #00af00; text-decoration-color: #00af00\">0</span> │\n",
              "├─────────────────────────────────┼────────────────────────┼───────────────┤\n",
              "│ flatten_5 (<span style=\"color: #0087ff; text-decoration-color: #0087ff\">Flatten</span>)             │ (<span style=\"color: #00d7ff; text-decoration-color: #00d7ff\">None</span>, <span style=\"color: #00af00; text-decoration-color: #00af00\">1024</span>)           │             <span style=\"color: #00af00; text-decoration-color: #00af00\">0</span> │\n",
              "├─────────────────────────────────┼────────────────────────┼───────────────┤\n",
              "│ dropout_1 (<span style=\"color: #0087ff; text-decoration-color: #0087ff\">Dropout</span>)             │ (<span style=\"color: #00d7ff; text-decoration-color: #00d7ff\">None</span>, <span style=\"color: #00af00; text-decoration-color: #00af00\">1024</span>)           │             <span style=\"color: #00af00; text-decoration-color: #00af00\">0</span> │\n",
              "├─────────────────────────────────┼────────────────────────┼───────────────┤\n",
              "│ dense_10 (<span style=\"color: #0087ff; text-decoration-color: #0087ff\">Dense</span>)                │ (<span style=\"color: #00d7ff; text-decoration-color: #00d7ff\">None</span>, <span style=\"color: #00af00; text-decoration-color: #00af00\">512</span>)            │       <span style=\"color: #00af00; text-decoration-color: #00af00\">524,800</span> │\n",
              "├─────────────────────────────────┼────────────────────────┼───────────────┤\n",
              "│ dense_11 (<span style=\"color: #0087ff; text-decoration-color: #0087ff\">Dense</span>)                │ (<span style=\"color: #00d7ff; text-decoration-color: #00d7ff\">None</span>, <span style=\"color: #00af00; text-decoration-color: #00af00\">10</span>)             │         <span style=\"color: #00af00; text-decoration-color: #00af00\">5,130</span> │\n",
              "└─────────────────────────────────┴────────────────────────┴───────────────┘\n",
              "</pre>\n"
            ]
          },
          "metadata": {}
        },
        {
          "output_type": "display_data",
          "data": {
            "text/plain": [
              "\u001b[1m Total params: \u001b[0m\u001b[38;5;34m900,746\u001b[0m (3.44 MB)\n"
            ],
            "text/html": [
              "<pre style=\"white-space:pre;overflow-x:auto;line-height:normal;font-family:Menlo,'DejaVu Sans Mono',consolas,'Courier New',monospace\"><span style=\"font-weight: bold\"> Total params: </span><span style=\"color: #00af00; text-decoration-color: #00af00\">900,746</span> (3.44 MB)\n",
              "</pre>\n"
            ]
          },
          "metadata": {}
        },
        {
          "output_type": "display_data",
          "data": {
            "text/plain": [
              "\u001b[1m Trainable params: \u001b[0m\u001b[38;5;34m900,746\u001b[0m (3.44 MB)\n"
            ],
            "text/html": [
              "<pre style=\"white-space:pre;overflow-x:auto;line-height:normal;font-family:Menlo,'DejaVu Sans Mono',consolas,'Courier New',monospace\"><span style=\"font-weight: bold\"> Trainable params: </span><span style=\"color: #00af00; text-decoration-color: #00af00\">900,746</span> (3.44 MB)\n",
              "</pre>\n"
            ]
          },
          "metadata": {}
        },
        {
          "output_type": "display_data",
          "data": {
            "text/plain": [
              "\u001b[1m Non-trainable params: \u001b[0m\u001b[38;5;34m0\u001b[0m (0.00 B)\n"
            ],
            "text/html": [
              "<pre style=\"white-space:pre;overflow-x:auto;line-height:normal;font-family:Menlo,'DejaVu Sans Mono',consolas,'Courier New',monospace\"><span style=\"font-weight: bold\"> Non-trainable params: </span><span style=\"color: #00af00; text-decoration-color: #00af00\">0</span> (0.00 B)\n",
              "</pre>\n"
            ]
          },
          "metadata": {}
        }
      ]
    },
    {
      "cell_type": "code",
      "source": [
        "history = model.fit(X_train_partial,y_train_partial,epochs=30,validation_data=(X_validation,y_test_validation),batch_size=128,callbacks=[early_stopping])"
      ],
      "metadata": {
        "colab": {
          "base_uri": "https://localhost:8080/"
        },
        "id": "VeW4Jk3mWwDW",
        "outputId": "bd7fbabf-282e-4be9-d228-2e4c2a688631"
      },
      "execution_count": null,
      "outputs": [
        {
          "output_type": "stream",
          "name": "stdout",
          "text": [
            "Epoch 1/30\n",
            "\u001b[1m262/262\u001b[0m \u001b[32m━━━━━━━━━━━━━━━━━━━━\u001b[0m\u001b[37m\u001b[0m \u001b[1m8s\u001b[0m 20ms/step - accuracy: 0.2303 - loss: 4.6494 - val_accuracy: 0.4555 - val_loss: 1.4938\n",
            "Epoch 2/30\n",
            "\u001b[1m262/262\u001b[0m \u001b[32m━━━━━━━━━━━━━━━━━━━━\u001b[0m\u001b[37m\u001b[0m \u001b[1m6s\u001b[0m 10ms/step - accuracy: 0.4483 - loss: 1.5308 - val_accuracy: 0.5210 - val_loss: 1.3456\n",
            "Epoch 3/30\n",
            "\u001b[1m262/262\u001b[0m \u001b[32m━━━━━━━━━━━━━━━━━━━━\u001b[0m\u001b[37m\u001b[0m \u001b[1m3s\u001b[0m 10ms/step - accuracy: 0.5100 - loss: 1.3705 - val_accuracy: 0.5580 - val_loss: 1.2316\n",
            "Epoch 4/30\n",
            "\u001b[1m262/262\u001b[0m \u001b[32m━━━━━━━━━━━━━━━━━━━━\u001b[0m\u001b[37m\u001b[0m \u001b[1m3s\u001b[0m 10ms/step - accuracy: 0.5515 - loss: 1.2573 - val_accuracy: 0.5978 - val_loss: 1.1701\n",
            "Epoch 5/30\n",
            "\u001b[1m262/262\u001b[0m \u001b[32m━━━━━━━━━━━━━━━━━━━━\u001b[0m\u001b[37m\u001b[0m \u001b[1m5s\u001b[0m 10ms/step - accuracy: 0.5901 - loss: 1.1664 - val_accuracy: 0.6072 - val_loss: 1.1159\n",
            "Epoch 6/30\n",
            "\u001b[1m262/262\u001b[0m \u001b[32m━━━━━━━━━━━━━━━━━━━━\u001b[0m\u001b[37m\u001b[0m \u001b[1m5s\u001b[0m 10ms/step - accuracy: 0.6094 - loss: 1.1021 - val_accuracy: 0.6411 - val_loss: 1.0455\n",
            "Epoch 7/30\n",
            "\u001b[1m262/262\u001b[0m \u001b[32m━━━━━━━━━━━━━━━━━━━━\u001b[0m\u001b[37m\u001b[0m \u001b[1m5s\u001b[0m 11ms/step - accuracy: 0.6296 - loss: 1.0559 - val_accuracy: 0.6304 - val_loss: 1.0636\n",
            "Epoch 8/30\n",
            "\u001b[1m262/262\u001b[0m \u001b[32m━━━━━━━━━━━━━━━━━━━━\u001b[0m\u001b[37m\u001b[0m \u001b[1m3s\u001b[0m 10ms/step - accuracy: 0.6542 - loss: 0.9825 - val_accuracy: 0.6598 - val_loss: 0.9769\n",
            "Epoch 9/30\n",
            "\u001b[1m262/262\u001b[0m \u001b[32m━━━━━━━━━━━━━━━━━━━━\u001b[0m\u001b[37m\u001b[0m \u001b[1m5s\u001b[0m 11ms/step - accuracy: 0.6712 - loss: 0.9348 - val_accuracy: 0.6584 - val_loss: 1.0074\n",
            "Epoch 10/30\n",
            "\u001b[1m262/262\u001b[0m \u001b[32m━━━━━━━━━━━━━━━━━━━━\u001b[0m\u001b[37m\u001b[0m \u001b[1m5s\u001b[0m 10ms/step - accuracy: 0.6871 - loss: 0.8831 - val_accuracy: 0.6787 - val_loss: 0.9435\n",
            "Epoch 11/30\n",
            "\u001b[1m262/262\u001b[0m \u001b[32m━━━━━━━━━━━━━━━━━━━━\u001b[0m\u001b[37m\u001b[0m \u001b[1m5s\u001b[0m 11ms/step - accuracy: 0.7041 - loss: 0.8407 - val_accuracy: 0.6679 - val_loss: 0.9748\n",
            "Epoch 12/30\n",
            "\u001b[1m262/262\u001b[0m \u001b[32m━━━━━━━━━━━━━━━━━━━━\u001b[0m\u001b[37m\u001b[0m \u001b[1m5s\u001b[0m 10ms/step - accuracy: 0.7102 - loss: 0.8177 - val_accuracy: 0.6895 - val_loss: 0.8978\n",
            "Epoch 13/30\n",
            "\u001b[1m262/262\u001b[0m \u001b[32m━━━━━━━━━━━━━━━━━━━━\u001b[0m\u001b[37m\u001b[0m \u001b[1m3s\u001b[0m 10ms/step - accuracy: 0.7219 - loss: 0.7782 - val_accuracy: 0.6861 - val_loss: 0.9197\n",
            "Epoch 14/30\n",
            "\u001b[1m262/262\u001b[0m \u001b[32m━━━━━━━━━━━━━━━━━━━━\u001b[0m\u001b[37m\u001b[0m \u001b[1m3s\u001b[0m 10ms/step - accuracy: 0.7320 - loss: 0.7604 - val_accuracy: 0.6982 - val_loss: 0.8815\n",
            "Epoch 15/30\n",
            "\u001b[1m262/262\u001b[0m \u001b[32m━━━━━━━━━━━━━━━━━━━━\u001b[0m\u001b[37m\u001b[0m \u001b[1m5s\u001b[0m 11ms/step - accuracy: 0.7482 - loss: 0.7096 - val_accuracy: 0.6999 - val_loss: 0.8678\n",
            "Epoch 16/30\n",
            "\u001b[1m262/262\u001b[0m \u001b[32m━━━━━━━━━━━━━━━━━━━━\u001b[0m\u001b[37m\u001b[0m \u001b[1m3s\u001b[0m 10ms/step - accuracy: 0.7612 - loss: 0.6807 - val_accuracy: 0.7033 - val_loss: 0.8703\n",
            "Epoch 17/30\n",
            "\u001b[1m262/262\u001b[0m \u001b[32m━━━━━━━━━━━━━━━━━━━━\u001b[0m\u001b[37m\u001b[0m \u001b[1m3s\u001b[0m 10ms/step - accuracy: 0.7656 - loss: 0.6659 - val_accuracy: 0.7039 - val_loss: 0.8631\n",
            "Epoch 18/30\n",
            "\u001b[1m262/262\u001b[0m \u001b[32m━━━━━━━━━━━━━━━━━━━━\u001b[0m\u001b[37m\u001b[0m \u001b[1m3s\u001b[0m 10ms/step - accuracy: 0.7732 - loss: 0.6429 - val_accuracy: 0.7088 - val_loss: 0.8548\n",
            "Epoch 19/30\n",
            "\u001b[1m262/262\u001b[0m \u001b[32m━━━━━━━━━━━━━━━━━━━━\u001b[0m\u001b[37m\u001b[0m \u001b[1m5s\u001b[0m 11ms/step - accuracy: 0.7802 - loss: 0.6229 - val_accuracy: 0.7095 - val_loss: 0.8533\n",
            "Epoch 20/30\n",
            "\u001b[1m262/262\u001b[0m \u001b[32m━━━━━━━━━━━━━━━━━━━━\u001b[0m\u001b[37m\u001b[0m \u001b[1m5s\u001b[0m 10ms/step - accuracy: 0.7916 - loss: 0.5817 - val_accuracy: 0.6972 - val_loss: 0.9048\n",
            "Epoch 21/30\n",
            "\u001b[1m262/262\u001b[0m \u001b[32m━━━━━━━━━━━━━━━━━━━━\u001b[0m\u001b[37m\u001b[0m \u001b[1m3s\u001b[0m 11ms/step - accuracy: 0.7974 - loss: 0.5821 - val_accuracy: 0.7047 - val_loss: 0.8768\n",
            "Epoch 22/30\n",
            "\u001b[1m262/262\u001b[0m \u001b[32m━━━━━━━━━━━━━━━━━━━━\u001b[0m\u001b[37m\u001b[0m \u001b[1m3s\u001b[0m 10ms/step - accuracy: 0.8039 - loss: 0.5612 - val_accuracy: 0.7073 - val_loss: 0.8628\n"
          ]
        }
      ]
    },
    {
      "cell_type": "code",
      "source": [
        "fig,ax = plt.subplots(figsize=(10,10))\n",
        "ax.plot(history.history['accuracy'],label='accuracy')\n",
        "ax.plot(history.history['val_accuracy'],label='val_accuracy')\n",
        "ax.legend()\n",
        "plt.show()\n"
      ],
      "metadata": {
        "colab": {
          "base_uri": "https://localhost:8080/",
          "height": 830
        },
        "id": "ssVyjVMOW_CR",
        "outputId": "5455f337-0011-4d1a-e9a1-4195436d0e6a"
      },
      "execution_count": null,
      "outputs": [
        {
          "output_type": "display_data",
          "data": {
            "text/plain": [
              "<Figure size 1000x1000 with 1 Axes>"
            ],
            "image/png": "[encoded data removed]"
          },
          "metadata": {}
        }
      ]
    },
    {
      "cell_type": "code",
      "source": [
        "test_loss, test_acc = model.evaluate(x_test, y_test)\n",
        "print(f\"Test Accuracy: {test_acc:.4f}\")"
      ],
      "metadata": {
        "colab": {
          "base_uri": "https://localhost:8080/"
        },
        "id": "LiP-Vq05XxFH",
        "outputId": "da397d29-9cf2-4e63-9a40-3c5790b248b2"
      },
      "execution_count": null,
      "outputs": [
        {
          "output_type": "stream",
          "name": "stdout",
          "text": [
            "\u001b[1m313/313\u001b[0m \u001b[32m━━━━━━━━━━━━━━━━━━━━\u001b[0m\u001b[37m\u001b[0m \u001b[1m1s\u001b[0m 4ms/step - accuracy: 0.7094 - loss: 0.8610\n",
            "Test Accuracy: 0.7092\n"
          ]
        }
      ]
    },
    {
      "cell_type": "code",
      "source": [
        "model.save(\"cifar10_saved_model.h5\")"
      ],
      "metadata": {
        "colab": {
          "base_uri": "https://localhost:8080/"
        },
        "id": "IPs8ZPDfY6Tf",
        "outputId": "876649d0-08d0-41a9-bc23-8500bee3c689"
      },
      "execution_count": null,
      "outputs": [
        {
          "output_type": "stream",
          "name": "stderr",
          "text": [
            "WARNING:absl:You are saving your model as an HDF5 file via `model.save()` or `keras.saving.save_model(model)`. This file format is considered legacy. We recommend using instead the native Keras format, e.g. `model.save('my_model.keras')` or `keras.saving.save_model(model, 'my_model.keras')`. \n"
          ]
        }
      ]
    },
    {
      "cell_type": "code",
      "source": [
        "# Load the saved .h5 model\n",
        "model = tf.keras.models.load_model(\"cifar10_saved_model.h5\")\n",
        "\n",
        "# Convert to TFLite\n",
        "converter = tf.lite.TFLiteConverter.from_keras_model(model)\n",
        "# converter.optimizations = [tf.lite.Optimize.DEFAULT]  # optional\n",
        "converter.exclude_conversion_metadata = True\n",
        "\n",
        "tflite_model = converter.convert()\n",
        "\n",
        "# Save the TFLite model\n",
        "with open(\"cifar10_model.tflite\", \"wb\") as f:\n",
        "    f.write(tflite_model)\n",
        "\n",
        "print(\"TFLite model saved as 'cifar10_model.tflite'\")"
      ],
      "metadata": {
        "colab": {
          "base_uri": "https://localhost:8080/"
        },
        "id": "bvH7kLfgbF3C",
        "outputId": "af21716c-3ad1-4540-836f-360d93b553f5"
      },
      "execution_count": null,
      "outputs": [
        {
          "output_type": "stream",
          "name": "stderr",
          "text": [
            "WARNING:absl:Compiled the loaded model, but the compiled metrics have yet to be built. `model.compile_metrics` will be empty until you train or evaluate the model.\n"
          ]
        },
        {
          "output_type": "stream",
          "name": "stdout",
          "text": [
            "Saved artifact at '/tmp/tmp60dy6ojx'. The following endpoints are available:\n",
            "\n",
            "* Endpoint 'serve'\n",
            "  args_0 (POSITIONAL_ONLY): TensorSpec(shape=(None, 32, 32, 3), dtype=tf.float32, name='input_layer_6')\n",
            "Output Type:\n",
            "  TensorSpec(shape=(None, 10), dtype=tf.float32, name=None)\n",
            "Captures:\n",
            "  132131178783440: TensorSpec(shape=(), dtype=tf.resource, name=None)\n",
            "  132131178784400: TensorSpec(shape=(), dtype=tf.resource, name=None)\n",
            "  132131178787856: TensorSpec(shape=(), dtype=tf.resource, name=None)\n",
            "  132130384210128: TensorSpec(shape=(), dtype=tf.resource, name=None)\n",
            "  132130384210320: TensorSpec(shape=(), dtype=tf.resource, name=None)\n",
            "  132130384209360: TensorSpec(shape=(), dtype=tf.resource, name=None)\n",
            "  132130384211088: TensorSpec(shape=(), dtype=tf.resource, name=None)\n",
            "  132130384207824: TensorSpec(shape=(), dtype=tf.resource, name=None)\n",
            "  132130384208016: TensorSpec(shape=(), dtype=tf.resource, name=None)\n",
            "  132130384207632: TensorSpec(shape=(), dtype=tf.resource, name=None)\n",
            "TFLite model saved as 'cifar10_model.tflite'\n"
          ]
        }
      ]
    },
    {
      "cell_type": "code",
      "source": [
        "#Loading TFLite\n",
        "\n",
        "import numpy as np\n",
        "import tensorflow as tf\n",
        "\n",
        "# Load the TFLite model\n",
        "interpreter = tf.lite.Interpreter(model_path=\"cifar10_model.tflite\")\n",
        "interpreter.allocate_tensors()\n",
        "\n",
        "# Get input and output details\n",
        "input_details = interpreter.get_input_details()\n",
        "output_details = interpreter.get_output_details()\n",
        "\n",
        "print(\"Input shape:\", input_details[0]['shape'])"
      ],
      "metadata": {
        "colab": {
          "base_uri": "https://localhost:8080/"
        },
        "id": "DggvCdawbKDH",
        "outputId": "d2db853b-73b1-41e9-f263-d832471c3221"
      },
      "execution_count": null,
      "outputs": [
        {
          "output_type": "stream",
          "name": "stdout",
          "text": [
            "Input shape: [ 1 32 32  3]\n"
          ]
        }
      ]
    },
    {
      "cell_type": "code",
      "source": [
        "#Testing the TF Lite model\n",
        "ind_img = random.randint(0,x_test.shape[0])\n",
        "x_test_img = x_test[ind_img]\n",
        "fig,ax = plt.subplots(figsize=(1,1))\n",
        "ax.imshow(x_test_img)\n",
        "plt.show()\n",
        "x_test_img = np.expand_dims(x_test_img ,axis=0).astype(np.float32)"
      ],
      "metadata": {
        "colab": {
          "base_uri": "https://localhost:8080/",
          "height": 142
        },
        "id": "spSi5WLKzet8",
        "outputId": "c0344def-d715-4256-fc47-35a6a2633b91"
      },
      "execution_count": null,
      "outputs": [
        {
          "output_type": "display_data",
          "data": {
            "text/plain": [
              "<Figure size 100x100 with 1 Axes>"
            ],
            "image/png": "[encoded data removed]"
          },
          "metadata": {}
        }
      ]
    },
    {
      "cell_type": "code",
      "source": [
        "interpreter.set_tensor(input_details[0]['index'], x_test_img)\n",
        "\n",
        "# Run inference\n",
        "interpreter.invoke()\n",
        "\n",
        "# Get output tensor\n",
        "output_data = interpreter.get_tensor(output_details[0]['index'])\n",
        "predicted_label = np.argmax(output_data)\n",
        "\n",
        "print(f\"✅ Predicted: {predicted_label},{lst_dict_labels[str(predicted_label)]}, True: {0}\")"
      ],
      "metadata": {
        "colab": {
          "base_uri": "https://localhost:8080/"
        },
        "id": "Mum4h02H1-Cn",
        "outputId": "47c7d3f2-2c00-4697-9bc8-537c07378f76"
      },
      "execution_count": null,
      "outputs": [
        {
          "output_type": "stream",
          "name": "stdout",
          "text": [
            "✅ Predicted: 4,deer, True: 0\n"
          ]
        }
      ]
    },
    {
      "cell_type": "code",
      "source": [
        "model_cifar = tf.keras.models.load_model(\"cifar10_saved_model.h5\")\n",
        "\n",
        "ind_img = random.randint(0,x_test.shape[0])\n",
        "x_test_img = x_test[ind_img]\n",
        "fig,ax = plt.subplots(figsize=(1,1))\n",
        "ax.imshow(x_test_img)\n",
        "plt.show()\n",
        "x_test_img = np.expand_dims(x_test_img ,axis=0).astype(np.float32)\n",
        "\n",
        "predict = model_cifar.predict(x_test_img)\n",
        "predicted_label = np.argmax(predict)\n",
        "print(f\"✅ Predicted: {predicted_label},{lst_dict_labels[str(predicted_label)]}, True: {0}\")"
      ],
      "metadata": {
        "colab": {
          "base_uri": "https://localhost:8080/",
          "height": 196
        },
        "id": "S5LB7-Z22WQc",
        "outputId": "2213b13b-b813-421d-aab5-b53c999c7f88"
      },
      "execution_count": null,
      "outputs": [
        {
          "output_type": "stream",
          "name": "stderr",
          "text": [
            "WARNING:absl:Compiled the loaded model, but the compiled metrics have yet to be built. `model.compile_metrics` will be empty until you train or evaluate the model.\n"
          ]
        },
        {
          "output_type": "display_data",
          "data": {
            "text/plain": [
              "<Figure size 100x100 with 1 Axes>"
            ],
            "image/png": "[encoded data removed]"
          },
          "metadata": {}
        },
        {
          "output_type": "stream",
          "name": "stdout",
          "text": [
            "\u001b[1m1/1\u001b[0m \u001b[32m━━━━━━━━━━━━━━━━━━━━\u001b[0m\u001b[37m\u001b[0m \u001b[1m0s\u001b[0m 284ms/step\n",
            "✅ Predicted: 4,deer, True: 0\n"
          ]
        }
      ]
    },
    {
      "cell_type": "code",
      "source": [],
      "metadata": {
        "id": "VHmnTTjv4Ivj"
      },
      "execution_count": null,
      "outputs": []
    },
    {
      "cell_type": "code",
      "source": [
        "import os\n",
        "import numpy as np\n",
        "import tensorflow as tf\n",
        "from PIL import Image, ImageDraw\n",
        "\n",
        "\n",
        "def box(file: str, p_path_nms_model, p_th, p_boxes):\n",
        "  leaves = []\n",
        "  image = Image.open(f\"images/{file}\")\n",
        "  file_name, ext = os.path.splitext(os.path.basename(image.filename))\n",
        "  os.makedirs(f\"images/croped\", exist_ok=True)\n",
        "\n",
        "  # tf_image_resized = image.resize((640, 640))\n",
        "  tf_interpreter = tf.lite.Interpreter(model_path=p_path_nms_model)\n",
        "  tf_interpreter.allocate_tensors()\n",
        "  tf_in_details = tf_interpreter.get_input_details()\n",
        "  tf_out_details = tf_interpreter.get_output_details()\n",
        "  # Model expects 640x640 input (assumed) Because model.export(format=\"tflite\") --> 640 by default\n",
        "  tf_image_width = tf_in_details[0]['shape'][2]\n",
        "  tf_image_height = tf_in_details[0]['shape'][1]\n",
        "  # tf_image = Image.open(p_path_image).convert(\"RGB\")\n",
        "  tf_image_resized = image.copy().convert(\"RGB\")\n",
        "  tf_image_resized = tf_image_resized.resize((tf_image_width, tf_image_height))\n",
        "  tf_image_np = np.array(tf_image_resized, dtype=np.float32) / 255.0\n",
        "  tf_image_np = np.expand_dims(tf_image_np, axis=0)\n",
        "  # print(f\"Image to be processed:{tf_image_np.shape}\")\n",
        "\n",
        "  #Run inference or prediction\n",
        "  tf_interpreter.set_tensor(tf_in_details[0]['index'], tf_image_np)\n",
        "  tf_interpreter.invoke()\n",
        "\n",
        "  # Get predictions from NMS model\n",
        "  tf_output = tf_interpreter.get_tensor(tf_out_details[0]['index'])[0]  # shape: [300, 6]\n",
        "  # print(f\"Output shape: {tf_output.shape}\")\n",
        "  tf_draw = ImageDraw.Draw(tf_image_resized)\n",
        "  tf_threshold = p_th\n",
        "  for i, det in enumerate(tf_output):\n",
        "    x1, y1, x2, y2, score, cls = det\n",
        "    if score >= tf_threshold:\n",
        "        x1 = int(x1 * tf_image_width)  #To get the coordinate to the image shape 640x640\n",
        "        y1 = int(y1 * tf_image_height)\n",
        "        x2 = int(x2 * tf_image_width)\n",
        "        y2 = int(y2 * tf_image_height)\n",
        "        if p_boxes:\n",
        "          print(f\"Score:{score:.2f},Box:{x1,y1,x2,y2}\")\n",
        "        tf_draw.rectangle([x1, y1, x2, y2], outline=\"blue\", width=3)\n",
        "        tf_draw.text((x1, y1), f\"Class {int(cls)}: {score:.2f}\", fill=\"red\")\n",
        "        i_filename = f\"images/croped/{file_name}-{i}{ext}\"\n",
        "        tf_image_resized.crop((x1, y1, x2, y2)).save(i_filename)\n",
        "        leaves.append(i_filename)\n",
        "\n",
        "  return leaves\n",
        "\n"
      ],
      "metadata": {
        "id": "GUD_dXqi6CrI"
      },
      "execution_count": null,
      "outputs": []
    },
    {
      "cell_type": "code",
      "source": [
        "image = \"leaves.png\"\n",
        "_ = box(image, \"yolo11n_model_1_float16.tflite\", 0.6, True)"
      ],
      "metadata": {
        "id": "mw-4BeFmpP2F",
        "colab": {
          "base_uri": "https://localhost:8080/"
        },
        "outputId": "6fa78e76-0bb7-4326-8c39-4599174b3a65"
      },
      "execution_count": null,
      "outputs": [
        {
          "output_type": "stream",
          "name": "stdout",
          "text": [
            "Score:0.94,Box:(231, 161, 362, 282)\n",
            "Score:0.94,Box:(296, 45, 394, 166)\n",
            "Score:0.93,Box:(455, 224, 600, 323)\n",
            "Score:0.93,Box:(308, 232, 451, 338)\n",
            "Score:0.93,Box:(279, 391, 376, 501)\n",
            "Score:0.92,Box:(156, 105, 290, 218)\n",
            "Score:0.92,Box:(219, 341, 321, 435)\n",
            "Score:0.90,Box:(143, 4, 260, 90)\n",
            "Score:0.90,Box:(117, 466, 207, 529)\n",
            "Score:0.89,Box:(324, 335, 426, 404)\n",
            "Score:0.89,Box:(149, 382, 222, 472)\n",
            "Score:0.88,Box:(144, 288, 255, 365)\n",
            "Score:0.87,Box:(299, 590, 355, 629)\n",
            "Score:0.85,Box:(429, 309, 565, 481)\n",
            "Score:0.83,Box:(253, 575, 313, 624)\n",
            "Score:0.83,Box:(94, 546, 178, 597)\n",
            "Score:0.82,Box:(233, 53, 308, 124)\n",
            "Score:0.81,Box:(65, 593, 156, 640)\n",
            "Score:0.79,Box:(351, 529, 398, 580)\n",
            "Score:0.78,Box:(199, 480, 290, 535)\n",
            "Score:0.78,Box:(306, 548, 352, 590)\n",
            "Score:0.77,Box:(165, 583, 217, 639)\n",
            "Score:0.75,Box:(235, 530, 304, 584)\n",
            "Score:0.72,Box:(271, 0, 327, 59)\n",
            "Score:0.69,Box:(131, 240, 225, 294)\n"
          ]
        }
      ]
    },
    {
      "cell_type": "code",
      "source": [
        "import numpy as np\n",
        "import tensorflow.lite as tflite\n",
        "from PIL import Image\n",
        "import os\n",
        "\n",
        "# model_path=\"mnet_model_2s.tflite\"\n",
        "model_path=\"vgg16_model_2.tflite\"\n",
        "\n",
        "# Load TFLite model\n",
        "interpreter = tflite.Interpreter(model_path=model_path)\n",
        "interpreter.allocate_tensors()\n",
        "input_index = interpreter.get_input_details()[0]['index']\n",
        "output_index = interpreter.get_output_details()[0]['index']\n",
        "\n",
        "files = [filename.name for filename in os.scandir(\"images\") if filename.is_file()]\n",
        "files = sorted(files)\n",
        "\n",
        "print(model_path)\n",
        "print(\"~\"*len(model_path))\n",
        "\n",
        "for file in files:\n",
        "  leaves = box(file, \"yolo11n_model_1_float16.tflite\", 0.6, False)\n",
        "  for leaf in leaves:\n",
        "    image = Image.open(leaf).convert(\"RGB\").resize((256, 256))\n",
        "    input_data = np.asarray(image, dtype=np.float32) / 255.0\n",
        "    input_data = np.expand_dims(input_data, axis=0)\n",
        "\n",
        "    # Run inference\n",
        "    interpreter.set_tensor(input_index, input_data)\n",
        "    interpreter.invoke()\n",
        "    output = interpreter.get_tensor(output_index)[0][0]\n",
        "\n",
        "    # Print output\n",
        "    print(f\"{output:.4f} {leaf}\")\n",
        "\n"
      ],
      "metadata": {
        "colab": {
          "base_uri": "https://localhost:8080/"
        },
        "id": "bt0LltuZ6Ctb",
        "outputId": "4e7dce8a-5095-4a53-9cf5-2f1f6931b570"
      },
      "execution_count": null,
      "outputs": [
        {
          "output_type": "stream",
          "name": "stdout",
          "text": [
            "vgg16_model_2.tflite\n",
            "~~~~~~~~~~~~~~~~~~~~\n",
            "0.1392 images/croped/p10-0.PNG\n",
            "0.1512 images/croped/p11-0.PNG\n",
            "0.1166 images/croped/p12-0.PNG\n",
            "0.6254 images/croped/p4-0.png\n",
            "0.2159 images/croped/p5-0.png\n",
            "0.2726 images/croped/p6-0.png\n",
            "0.2866 images/croped/p6-1.png\n",
            "0.2529 images/croped/p7-0.png\n",
            "0.1706 images/croped/p8-0.png\n",
            "0.2752 images/croped/p9-0.png\n",
            "0.3060 images/croped/pepper_inf_1-0.png\n",
            "0.3581 images/croped/pepper_inf_2-0.png\n",
            "0.1631 images/croped/pepper_inf_3-0.png\n"
          ]
        }
      ]
    },
    {
      "cell_type": "code",
      "source": [
        "# !cd images; zip -r croped.zip croped\n",
        "# !ls images/croped.zip\n",
        "!ls images"
      ],
      "metadata": {
        "colab": {
          "base_uri": "https://localhost:8080/"
        },
        "id": "duQe5TBOvqGN",
        "outputId": "905e417c-b73b-4526-a1da-38d978aac422"
      },
      "execution_count": null,
      "outputs": [
        {
          "output_type": "stream",
          "name": "stdout",
          "text": [
            "croped\t    p11      p4.png  p7      p9.png\t       pepper_inf_3\n",
            "croped.zip  p11.PNG  p5      p7.png  pepper_inf_1      pepper_inf_3.png\n",
            "leafts\t    p12      p5.png  p8      pepper_inf_1.png\n",
            "p10\t    p12.PNG  p6      p8.png  pepper_inf_2\n",
            "p10.PNG     p4\t     p6.png  p9      pepper_inf_2.png\n"
          ]
        }
      ]
    }
  ]
}